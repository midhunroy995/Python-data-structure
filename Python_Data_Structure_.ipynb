{
  "cells": [
    {
      "cell_type": "markdown",
      "metadata": {
        "id": "jGxqF4aIjNSq"
      },
      "source": [
        "<a id='1'></a><center> <h3 style=\"background-color:orange; color:white\" ><br>Python Data Structures<br></h3>"
      ],
      "id": "jGxqF4aIjNSq"
    },
    {
      "cell_type": "markdown",
      "metadata": {
        "id": "BOt7ts7HwIKx"
      },
      "source": [
        "# `Types of Data Structures:`\n",
        "* `List` | `Tuple`\n",
        "* `Set` | `Dictionary`"
      ],
      "id": "BOt7ts7HwIKx"
    },
    {
      "cell_type": "markdown",
      "metadata": {
        "id": "eDJ726mAwIKx"
      },
      "source": [
        "|Data Structures type|Mutable|Comments|Indexing|Ordered|Duplicacy|\n",
        "|----|----|----|----|----|----|\n",
        "tuple ()|immutable|immutable version of list| possible|yes |allowed |\n",
        "list []|mutable|-|possible |yes | allowed |\n",
        "set {}|mutable| -|not |no |not |\n",
        "dict {key:value}|mutable|-|possible |no |not  |"
      ],
      "id": "eDJ726mAwIKx"
    },
    {
      "cell_type": "markdown",
      "metadata": {
        "id": "jgKO5gNDwIKy"
      },
      "source": [
        "💫 `immutable` => `can't be changed` <br>\n",
        "💫 `mutable` => `can be changed`"
      ],
      "id": "jgKO5gNDwIKy"
    },
    {
      "cell_type": "code",
      "execution_count": null,
      "metadata": {
        "id": "6w0wn4wEwIKy"
      },
      "outputs": [],
      "source": [],
      "id": "6w0wn4wEwIKy"
    },
    {
      "cell_type": "markdown",
      "metadata": {
        "id": "Tyavi31ZjNSw"
      },
      "source": [
        "## Lists\n",
        "\n"
      ],
      "id": "Tyavi31ZjNSw"
    },
    {
      "cell_type": "markdown",
      "metadata": {
        "id": "tkDQdRdUjNSy"
      },
      "source": [
        "### Create an empty list with the name ‘a’, print the value of a and type(a).\n"
      ],
      "id": "tkDQdRdUjNSy"
    },
    {
      "cell_type": "code",
      "execution_count": 1,
      "metadata": {
        "id": "a6i4yNGvjNSz"
      },
      "outputs": [],
      "source": [
        "# create empty list, name it 'a'\n",
        "a = []\n"
      ],
      "id": "a6i4yNGvjNSz"
    },
    {
      "cell_type": "code",
      "execution_count": 2,
      "metadata": {
        "id": "M8FMNQEgjNS0",
        "outputId": "f9ba43e0-1023-4b9b-af96-60274349440a",
        "colab": {
          "base_uri": "https://localhost:8080/"
        }
      },
      "outputs": [
        {
          "output_type": "stream",
          "name": "stdout",
          "text": [
            "[]\n"
          ]
        }
      ],
      "source": [
        "# print the value of a\n",
        "\n",
        "print(a)"
      ],
      "id": "M8FMNQEgjNS0"
    },
    {
      "cell_type": "code",
      "execution_count": 3,
      "metadata": {
        "id": "Jfc9sg1vjNS1",
        "outputId": "2f90ba4b-c078-4a84-f6b8-775ccf29f482",
        "colab": {
          "base_uri": "https://localhost:8080/"
        }
      },
      "outputs": [
        {
          "output_type": "stream",
          "name": "stdout",
          "text": [
            "<class 'list'>\n"
          ]
        }
      ],
      "source": [
        "# print the type of a\n",
        "print(type(a))"
      ],
      "id": "Jfc9sg1vjNS1"
    },
    {
      "cell_type": "markdown",
      "metadata": {
        "id": "UNpN9_w4jNS1"
      },
      "source": [
        "### Create a list , languages = ['R','Python', 'SAS', 'Scala', 42], "
      ],
      "id": "UNpN9_w4jNS1"
    },
    {
      "cell_type": "code",
      "execution_count": 4,
      "metadata": {
        "id": "x-TG-vc5jNS2"
      },
      "outputs": [],
      "source": [
        " languages = ['R','Python', 'SAS', 'Scala', 42]"
      ],
      "id": "x-TG-vc5jNS2"
    },
    {
      "cell_type": "markdown",
      "metadata": {
        "id": "JDSIK8TbjNS3"
      },
      "source": [
        "Print the number of elements in the list"
      ],
      "id": "JDSIK8TbjNS3"
    },
    {
      "cell_type": "code",
      "execution_count": 5,
      "metadata": {
        "id": "C4lBMaM8jNS3",
        "outputId": "82d6beb5-4f08-4d8d-df14-e1d524365c21",
        "colab": {
          "base_uri": "https://localhost:8080/"
        }
      },
      "outputs": [
        {
          "output_type": "stream",
          "name": "stdout",
          "text": [
            "5\n"
          ]
        }
      ],
      "source": [
        "print(len(languages))"
      ],
      "id": "C4lBMaM8jNS3"
    },
    {
      "cell_type": "markdown",
      "metadata": {
        "id": "EyzO_pcnjNS3"
      },
      "source": [
        "Using for loop iterate and print all the elements in the list"
      ],
      "id": "EyzO_pcnjNS3"
    },
    {
      "cell_type": "code",
      "execution_count": 8,
      "metadata": {
        "id": "TyM54ydsjNS4",
        "outputId": "216ba3c3-c0a5-4019-8e15-2ba4db8d004f",
        "colab": {
          "base_uri": "https://localhost:8080/"
        }
      },
      "outputs": [
        {
          "output_type": "stream",
          "name": "stdout",
          "text": [
            "R\n",
            "Python\n",
            "SAS\n",
            "Scala\n",
            "42\n"
          ]
        }
      ],
      "source": [
        "for language in languages:\n",
        "  print(language)\n",
        "\n"
      ],
      "id": "TyM54ydsjNS4"
    },
    {
      "cell_type": "markdown",
      "metadata": {
        "id": "eC1fqz9LjNS4"
      },
      "source": [
        "Select the second item, 'Python' and store it in a new variable named 'temp'"
      ],
      "id": "eC1fqz9LjNS4"
    },
    {
      "cell_type": "code",
      "execution_count": 9,
      "metadata": {
        "id": "KY0KhRlOjNS4"
      },
      "outputs": [],
      "source": [
        "temp = languages[1]"
      ],
      "id": "KY0KhRlOjNS4"
    },
    {
      "cell_type": "markdown",
      "metadata": {
        "id": "breORMa_jNS4"
      },
      "source": [
        "Print the value of temp and type(temp)"
      ],
      "id": "breORMa_jNS4"
    },
    {
      "cell_type": "code",
      "execution_count": 10,
      "metadata": {
        "id": "MbvX2aIgjNS5",
        "outputId": "8420b27b-2b4f-4c77-d388-e0154c4bcb09",
        "colab": {
          "base_uri": "https://localhost:8080/"
        }
      },
      "outputs": [
        {
          "output_type": "stream",
          "name": "stdout",
          "text": [
            "Python\n"
          ]
        }
      ],
      "source": [
        "print(temp)\n",
        "\n"
      ],
      "id": "MbvX2aIgjNS5"
    },
    {
      "cell_type": "markdown",
      "metadata": {
        "id": "I4MrKlAUjNS5"
      },
      "source": [
        "Append the element 'Java' in the list"
      ],
      "id": "I4MrKlAUjNS5"
    },
    {
      "cell_type": "code",
      "execution_count": 12,
      "metadata": {
        "id": "rOtqZY6PjNS6",
        "colab": {
          "base_uri": "https://localhost:8080/"
        },
        "outputId": "22bd6f6c-07a7-49fc-96f5-a1c3bd5e88c2"
      },
      "outputs": [
        {
          "output_type": "stream",
          "name": "stdout",
          "text": [
            "['R', 'Python', 'SAS', 'Scala', 42, 'Java', 'Java']\n"
          ]
        }
      ],
      "source": [
        "languages.append('Java')\n",
        "print(languages)"
      ],
      "id": "rOtqZY6PjNS6"
    },
    {
      "cell_type": "markdown",
      "metadata": {
        "id": "ksEn8qvFjNS6"
      },
      "source": [
        "Remove the element 42 from the list and print the list"
      ],
      "id": "ksEn8qvFjNS6"
    },
    {
      "cell_type": "code",
      "execution_count": 13,
      "metadata": {
        "id": "Lxuzfc1bjNS6",
        "outputId": "3d251b55-13b0-4abe-d908-4fb6b74bee30",
        "colab": {
          "base_uri": "https://localhost:8080/"
        }
      },
      "outputs": [
        {
          "output_type": "stream",
          "name": "stdout",
          "text": [
            "['R', 'Python', 'SAS', 'Scala', 'Java', 'Java']\n"
          ]
        }
      ],
      "source": [
        "languages.remove(42)\n",
        "print(languages)\n",
        "\n"
      ],
      "id": "Lxuzfc1bjNS6"
    },
    {
      "cell_type": "markdown",
      "metadata": {
        "id": "19MjI0w6jNS6"
      },
      "source": [
        "### Create a list, colors = [‘Red’, ‘Blue’, ‘White’]"
      ],
      "id": "19MjI0w6jNS6"
    },
    {
      "cell_type": "code",
      "execution_count": 15,
      "metadata": {
        "id": "Z1lMzdbWjNS7"
      },
      "outputs": [],
      "source": [
        "colors = ['Red', 'Blue', 'White']"
      ],
      "id": "Z1lMzdbWjNS7"
    },
    {
      "cell_type": "markdown",
      "metadata": {
        "id": "VAqLj5R3jNS7"
      },
      "source": [
        "Append the element 'Black' to colors"
      ],
      "id": "VAqLj5R3jNS7"
    },
    {
      "cell_type": "code",
      "execution_count": 17,
      "metadata": {
        "id": "gvb5iC7ljNS7",
        "colab": {
          "base_uri": "https://localhost:8080/"
        },
        "outputId": "454f223e-9f08-46f3-bcab-c99fd7b47ee4"
      },
      "outputs": [
        {
          "output_type": "stream",
          "name": "stdout",
          "text": [
            "['Red', 'Blue', 'White', 'Black', 'Black']\n"
          ]
        }
      ],
      "source": [
        "colors.append('Black')\n",
        "print(colors)\n"
      ],
      "id": "gvb5iC7ljNS7"
    },
    {
      "cell_type": "markdown",
      "metadata": {
        "id": "MFWIzVcvjNS7"
      },
      "source": [
        "Append the color 'Orange' to second position (index=1) and print the list"
      ],
      "id": "MFWIzVcvjNS7"
    },
    {
      "cell_type": "code",
      "execution_count": 21,
      "metadata": {
        "id": "Fb6YZDSNjNS8",
        "colab": {
          "base_uri": "https://localhost:8080/"
        },
        "outputId": "82bad381-28e2-40cb-d978-af7226fa7423"
      },
      "outputs": [
        {
          "output_type": "stream",
          "name": "stdout",
          "text": [
            "['Red', 'Orange', 'Orange', 'Blue', 'White', 'Black', 'Black']\n"
          ]
        }
      ],
      "source": [
        "colors.insert(1,'Orange')\n",
        "\n"
      ],
      "id": "Fb6YZDSNjNS8"
    },
    {
      "cell_type": "markdown",
      "metadata": {
        "id": "8DWB76AOjNS8"
      },
      "source": [
        "Print the list\n"
      ],
      "id": "8DWB76AOjNS8"
    },
    {
      "cell_type": "code",
      "execution_count": 22,
      "metadata": {
        "id": "0ldkGCozjNS8",
        "outputId": "ad0f0e76-d15e-4944-8bd2-4f225e61df11",
        "colab": {
          "base_uri": "https://localhost:8080/"
        }
      },
      "outputs": [
        {
          "output_type": "stream",
          "name": "stdout",
          "text": [
            "['Red', 'Orange', 'Orange', 'Blue', 'White', 'Black', 'Black']\n"
          ]
        }
      ],
      "source": [
        "print(colors)"
      ],
      "id": "0ldkGCozjNS8"
    },
    {
      "cell_type": "markdown",
      "metadata": {
        "id": "WfFfxvLKjNS8"
      },
      "source": [
        "Create another list, colors2 = [‘Grey’, ‘Sky Blue’]"
      ],
      "id": "WfFfxvLKjNS8"
    },
    {
      "cell_type": "code",
      "execution_count": 23,
      "metadata": {
        "id": "onZEiwdUjNS8"
      },
      "outputs": [],
      "source": [
        "colors2 = ['Grey','Sky Blue']"
      ],
      "id": "onZEiwdUjNS8"
    },
    {
      "cell_type": "markdown",
      "metadata": {
        "id": "MrNQk6uKjNS8"
      },
      "source": [
        "Add the elements of colors2 to colors using extend function in the list"
      ],
      "id": "MrNQk6uKjNS8"
    },
    {
      "cell_type": "code",
      "execution_count": 24,
      "metadata": {
        "id": "Hr1Eu88OjNS9"
      },
      "outputs": [],
      "source": [
        "colors.extend(colors2)"
      ],
      "id": "Hr1Eu88OjNS9"
    },
    {
      "cell_type": "markdown",
      "metadata": {
        "id": "u0KDeU20jNS9"
      },
      "source": [
        "Print len of colors and its elements"
      ],
      "id": "u0KDeU20jNS9"
    },
    {
      "cell_type": "code",
      "execution_count": 28,
      "metadata": {
        "id": "bnBmsCg2jNS9",
        "outputId": "775f2e47-b043-45ba-d6e6-60eae650a88c",
        "colab": {
          "base_uri": "https://localhost:8080/"
        }
      },
      "outputs": [
        {
          "output_type": "stream",
          "name": "stdout",
          "text": [
            "9\n",
            "Red\n",
            "Orange\n",
            "Orange\n",
            "Blue\n",
            "White\n",
            "Black\n",
            "Black\n",
            "Grey\n",
            "Sky Blue\n"
          ]
        }
      ],
      "source": [
        "\n",
        "print(len(colors))\n",
        "for color in colors:\n",
        "  print(color)\n"
      ],
      "id": "bnBmsCg2jNS9"
    },
    {
      "cell_type": "markdown",
      "metadata": {
        "id": "vJ7YqokSjNS9"
      },
      "source": [
        "Sort the list and print it."
      ],
      "id": "vJ7YqokSjNS9"
    },
    {
      "cell_type": "code",
      "execution_count": 30,
      "metadata": {
        "id": "X14C-1PtjNS9",
        "outputId": "5cd3a9b6-be59-4913-9d8b-eaf953422ab7",
        "colab": {
          "base_uri": "https://localhost:8080/"
        }
      },
      "outputs": [
        {
          "output_type": "stream",
          "name": "stdout",
          "text": [
            "['Black', 'Black', 'Blue', 'Grey', 'Orange', 'Orange', 'Red', 'Sky Blue', 'White']\n"
          ]
        }
      ],
      "source": [
        "colors.sort()\n",
        "print(colors)\n",
        "\n"
      ],
      "id": "X14C-1PtjNS9"
    },
    {
      "cell_type": "markdown",
      "metadata": {
        "id": "MdN5B9F9jNS-"
      },
      "source": [
        "### Create a string, sent = ‘Coronavirus Caused Lockdowns Around The World.”"
      ],
      "id": "MdN5B9F9jNS-"
    },
    {
      "cell_type": "code",
      "execution_count": 36,
      "metadata": {
        "id": "j4JUR085jNS-"
      },
      "outputs": [],
      "source": [
        "sent = 'Coronavirus Caused Lockdowns Around The World'"
      ],
      "id": "j4JUR085jNS-"
    },
    {
      "cell_type": "markdown",
      "metadata": {
        "id": "rcn18drOjNS-"
      },
      "source": [
        "Use split function to convert the string into a list of words and save it in variable words and print the same"
      ],
      "id": "rcn18drOjNS-"
    },
    {
      "cell_type": "code",
      "execution_count": 37,
      "metadata": {
        "id": "fjiKSboajNS-",
        "outputId": "c30c4022-882e-4dc7-d6b3-ae28947b740f",
        "colab": {
          "base_uri": "https://localhost:8080/"
        }
      },
      "outputs": [
        {
          "output_type": "stream",
          "name": "stdout",
          "text": [
            "['Coronavirus', 'Caused', 'Lockdowns', 'Around', 'The', 'World']\n"
          ]
        }
      ],
      "source": [
        "words = sent.split()\n",
        "\n",
        "print(words)"
      ],
      "id": "fjiKSboajNS-"
    },
    {
      "cell_type": "markdown",
      "metadata": {
        "id": "rowxhN26jNS_"
      },
      "source": [
        "Convert each word in the list to lower case and store it in variable words_lower. \n",
        "Print words_lower"
      ],
      "id": "rowxhN26jNS_"
    },
    {
      "cell_type": "code",
      "execution_count": 41,
      "metadata": {
        "id": "LuzAECOVjNS_",
        "outputId": "287a600c-ee93-4b55-d4f6-2642def17dcf",
        "colab": {
          "base_uri": "https://localhost:8080/"
        }
      },
      "outputs": [
        {
          "output_type": "stream",
          "name": "stdout",
          "text": [
            "['coronavirus', 'caused', 'lockdowns', 'around', 'the', 'world']\n"
          ]
        }
      ],
      "source": [
        "words_lower = [word.lower() for word in words]\n",
        "\n",
        "print(words_lower)\n",
        "\n"
      ],
      "id": "LuzAECOVjNS_"
    },
    {
      "cell_type": "markdown",
      "metadata": {
        "id": "zznwP-l9jNS_"
      },
      "source": [
        "Check whether ‘country’ is in the list"
      ],
      "id": "zznwP-l9jNS_"
    },
    {
      "cell_type": "code",
      "execution_count": 42,
      "metadata": {
        "id": "y-U1felnjNS_",
        "outputId": "8b1e4150-bcc5-4521-f69d-49e515b0a920",
        "colab": {
          "base_uri": "https://localhost:8080/"
        }
      },
      "outputs": [
        {
          "output_type": "stream",
          "name": "stdout",
          "text": [
            "False\n"
          ]
        }
      ],
      "source": [
        "if 'country' in words_lower:\n",
        "  print('True')\n",
        "else:\n",
        "  print('False')"
      ],
      "id": "y-U1felnjNS_"
    },
    {
      "cell_type": "markdown",
      "metadata": {
        "id": "AZMvSVKWjNS_"
      },
      "source": [
        "Remove the element ‘the’ from the list and print the list."
      ],
      "id": "AZMvSVKWjNS_"
    },
    {
      "cell_type": "code",
      "execution_count": 43,
      "metadata": {
        "id": "bmDbpYd7jNS_",
        "outputId": "b855fffd-6af0-41b7-989e-2a64be82af7a",
        "colab": {
          "base_uri": "https://localhost:8080/"
        }
      },
      "outputs": [
        {
          "output_type": "stream",
          "name": "stdout",
          "text": [
            "['coronavirus', 'caused', 'lockdowns', 'around', 'world']\n"
          ]
        }
      ],
      "source": [
        "words_lower.remove('the')\n",
        "print(words_lower)\n"
      ],
      "id": "bmDbpYd7jNS_"
    },
    {
      "cell_type": "markdown",
      "metadata": {
        "id": "int3gJc0jNS_"
      },
      "source": [
        "Select the first 4 words from the list words_lower using slicing and store them in a new variable x4"
      ],
      "id": "int3gJc0jNS_"
    },
    {
      "cell_type": "code",
      "execution_count": 44,
      "metadata": {
        "id": "fXOJmYI1jNTA"
      },
      "outputs": [],
      "source": [
        "x4 = words_lower[:4]"
      ],
      "id": "fXOJmYI1jNTA"
    },
    {
      "cell_type": "code",
      "execution_count": 45,
      "metadata": {
        "id": "2Kb_1V9HjNTA",
        "outputId": "2a8f34c4-bfad-46c3-a7d7-97f210336610",
        "colab": {
          "base_uri": "https://localhost:8080/"
        }
      },
      "outputs": [
        {
          "output_type": "stream",
          "name": "stdout",
          "text": [
            "['coronavirus', 'caused', 'lockdowns', 'around']\n"
          ]
        }
      ],
      "source": [
        "# print x4\n",
        "print(x4)\n"
      ],
      "id": "2Kb_1V9HjNTA"
    },
    {
      "cell_type": "markdown",
      "metadata": {
        "id": "3HgP3nUmjNTA"
      },
      "source": [
        "Convert the list of elements to single string using join function and print it"
      ],
      "id": "3HgP3nUmjNTA"
    },
    {
      "cell_type": "code",
      "execution_count": 48,
      "metadata": {
        "id": "hiXO7ekhjNTA",
        "outputId": "1c72954c-f306-46a8-e909-54adb5eeb154",
        "colab": {
          "base_uri": "https://localhost:8080/"
        }
      },
      "outputs": [
        {
          "output_type": "stream",
          "name": "stdout",
          "text": [
            "coronaviruscausedlockdownsaround\n"
          ]
        }
      ],
      "source": [
        "sentence = ''.join(x4)\n",
        "print(sentence)\n"
      ],
      "id": "hiXO7ekhjNTA"
    },
    {
      "cell_type": "markdown",
      "metadata": {
        "id": "tW6We_kvjNTA"
      },
      "source": [
        "## Sets"
      ],
      "id": "tW6We_kvjNTA"
    },
    {
      "cell_type": "markdown",
      "metadata": {
        "id": "02qkte5xjNTA"
      },
      "source": [
        "### Create stud_grades = ['A','A','B','C','C','F']"
      ],
      "id": "02qkte5xjNTA"
    },
    {
      "cell_type": "code",
      "execution_count": 49,
      "metadata": {
        "id": "M5P_qZaTjNTB"
      },
      "outputs": [],
      "source": [
        "stud_grades = ['A','A','B','C','C','F']"
      ],
      "id": "M5P_qZaTjNTB"
    },
    {
      "cell_type": "markdown",
      "metadata": {
        "id": "XazCnMcBjNTB"
      },
      "source": [
        "Print the len of stud_grades"
      ],
      "id": "XazCnMcBjNTB"
    },
    {
      "cell_type": "code",
      "execution_count": 50,
      "metadata": {
        "id": "gMMJN-V5jNTB",
        "outputId": "9fb00d9a-21ab-4bf3-e9dc-210eb8016706",
        "colab": {
          "base_uri": "https://localhost:8080/"
        }
      },
      "outputs": [
        {
          "output_type": "stream",
          "name": "stdout",
          "text": [
            "6\n"
          ]
        }
      ],
      "source": [
        "print(len(stud_grades))"
      ],
      "id": "gMMJN-V5jNTB"
    },
    {
      "cell_type": "markdown",
      "metadata": {
        "id": "ALm7hstGjNTB"
      },
      "source": [
        "Create a new variable, stud_grades_set = set(stud_grades)"
      ],
      "id": "ALm7hstGjNTB"
    },
    {
      "cell_type": "code",
      "execution_count": 51,
      "metadata": {
        "id": "vtktMKjkwILB"
      },
      "outputs": [],
      "source": [
        "stud_grades_set = set(stud_grades)"
      ],
      "id": "vtktMKjkwILB"
    },
    {
      "cell_type": "markdown",
      "metadata": {
        "id": "JJESkQiJjNTB"
      },
      "source": [
        "Print stud_grades_set. "
      ],
      "id": "JJESkQiJjNTB"
    },
    {
      "cell_type": "code",
      "execution_count": 52,
      "metadata": {
        "id": "Q-daiiLPjNTB",
        "outputId": "5d797a35-5f96-4edc-f931-3d129c2d272f",
        "colab": {
          "base_uri": "https://localhost:8080/"
        }
      },
      "outputs": [
        {
          "output_type": "stream",
          "name": "stdout",
          "text": [
            "{'C', 'B', 'A', 'F'}\n"
          ]
        }
      ],
      "source": [
        "\n",
        "print(stud_grades_set)\n"
      ],
      "id": "Q-daiiLPjNTB"
    },
    {
      "cell_type": "markdown",
      "metadata": {
        "id": "hNeCPwPOjNTC"
      },
      "source": [
        "print the type of stud_grades and stud_grades_set and print their corresponding elements. Try to understand the difference between them."
      ],
      "id": "hNeCPwPOjNTC"
    },
    {
      "cell_type": "code",
      "execution_count": 53,
      "metadata": {
        "id": "g7cntC0ojNTC",
        "outputId": "6432c079-8f85-4719-8e0f-ccdbe69e934f",
        "colab": {
          "base_uri": "https://localhost:8080/"
        }
      },
      "outputs": [
        {
          "output_type": "stream",
          "name": "stdout",
          "text": [
            "<class 'list'>\n",
            "<class 'set'>\n",
            "['A', 'A', 'B', 'C', 'C', 'F']\n",
            "{'C', 'B', 'A', 'F'}\n"
          ]
        }
      ],
      "source": [
        "\n",
        "# Print the type of stud_grades\n",
        "print(type(stud_grades))\n",
        "\n",
        "# Print the type of stud_grades_set\n",
        "print(type(stud_grades_set))\n",
        "\n",
        "# Print the elements of stud_grades\n",
        "print(stud_grades)\n",
        "\n",
        "# Print the elements of stud_grades_set\n",
        "print(stud_grades_set)\n",
        "\n"
      ],
      "id": "g7cntC0ojNTC"
    },
    {
      "cell_type": "markdown",
      "metadata": {
        "id": "WjzzJX8yjNTC"
      },
      "source": [
        "Add a new element ‘G’ to stud_grades_set"
      ],
      "id": "WjzzJX8yjNTC"
    },
    {
      "cell_type": "code",
      "execution_count": 54,
      "metadata": {
        "id": "y80DVAlRjNTC"
      },
      "outputs": [],
      "source": [
        "stud_grades_set.add('G')\n"
      ],
      "id": "y80DVAlRjNTC"
    },
    {
      "cell_type": "markdown",
      "metadata": {
        "id": "4TO9zhSJjNTC"
      },
      "source": [
        "Add element 'F' to stud_grades_set. and print it."
      ],
      "id": "4TO9zhSJjNTC"
    },
    {
      "cell_type": "code",
      "execution_count": 55,
      "metadata": {
        "id": "Bh4tc1zCjNTC",
        "outputId": "d3310b67-35a6-48a0-cc44-5f0a21468a1e",
        "colab": {
          "base_uri": "https://localhost:8080/"
        }
      },
      "outputs": [
        {
          "output_type": "stream",
          "name": "stdout",
          "text": [
            "{'G', 'A', 'C', 'B', 'F'}\n"
          ]
        }
      ],
      "source": [
        "stud_grades_set.add('F')\n",
        "print(stud_grades_set)\n"
      ],
      "id": "Bh4tc1zCjNTC"
    },
    {
      "cell_type": "markdown",
      "metadata": {
        "id": "FSgM3DD5jNTD"
      },
      "source": [
        "!!Did you notice? set doesn't add an element if it's already present in it, unlike lists."
      ],
      "id": "FSgM3DD5jNTD"
    },
    {
      "cell_type": "markdown",
      "metadata": {
        "id": "tqz1GBM5jNTD"
      },
      "source": [
        "Remove ‘F’ from stud_grades_set"
      ],
      "id": "tqz1GBM5jNTD"
    },
    {
      "cell_type": "code",
      "execution_count": 56,
      "metadata": {
        "id": "zOLBDdk0jNTD"
      },
      "outputs": [],
      "source": [
        "stud_grades_set.remove('F')\n",
        "\n"
      ],
      "id": "zOLBDdk0jNTD"
    },
    {
      "cell_type": "markdown",
      "metadata": {
        "id": "wxMXywoRjNTD"
      },
      "source": [
        "Print the elements and the length of stud_grades_set"
      ],
      "id": "wxMXywoRjNTD"
    },
    {
      "cell_type": "code",
      "execution_count": 57,
      "metadata": {
        "id": "lS582g27jNTD",
        "outputId": "5a3a45e6-0310-40f6-fb06-d92879ac1ded",
        "colab": {
          "base_uri": "https://localhost:8080/"
        }
      },
      "outputs": [
        {
          "output_type": "stream",
          "name": "stdout",
          "text": [
            "4\n",
            "{'G', 'A', 'C', 'B'}\n"
          ]
        }
      ],
      "source": [
        "print(len(stud_grades_set))\n",
        "print(stud_grades_set)\n",
        "\n"
      ],
      "id": "lS582g27jNTD"
    },
    {
      "cell_type": "markdown",
      "metadata": {
        "id": "FctCYkNBjNTD"
      },
      "source": [
        "### Create colors = [‘red’,’blue’,’orange’], and fruits = [‘orange’,’grapes’,’apples’] "
      ],
      "id": "FctCYkNBjNTD"
    },
    {
      "cell_type": "code",
      "execution_count": 1,
      "metadata": {
        "id": "8U2s_N5NwILE"
      },
      "outputs": [],
      "source": [
        "colors = ['red','blue','orange']\n",
        "fruits = ['orange','grapes','apples']"
      ],
      "id": "8U2s_N5NwILE"
    },
    {
      "cell_type": "markdown",
      "metadata": {
        "id": "kfIRtvphjNTE"
      },
      "source": [
        "Print color and fruits"
      ],
      "id": "kfIRtvphjNTE"
    },
    {
      "cell_type": "code",
      "execution_count": 2,
      "metadata": {
        "id": "q-gavK0-jNTE",
        "outputId": "89899451-6c8c-43ac-81dd-5b2ee0926159",
        "colab": {
          "base_uri": "https://localhost:8080/"
        }
      },
      "outputs": [
        {
          "output_type": "stream",
          "name": "stdout",
          "text": [
            "['red', 'blue', 'orange']\n",
            "['orange', 'grapes', 'apples']\n"
          ]
        }
      ],
      "source": [
        "\n",
        "print(colors)\n",
        "print(fruits)"
      ],
      "id": "q-gavK0-jNTE"
    },
    {
      "cell_type": "markdown",
      "metadata": {
        "id": "uMOTrWwSjNTE"
      },
      "source": [
        "Create colors_set, and fruits_set. (using set() ) and print them"
      ],
      "id": "uMOTrWwSjNTE"
    },
    {
      "cell_type": "code",
      "execution_count": 3,
      "metadata": {
        "id": "IgP2ZhedwILF"
      },
      "outputs": [],
      "source": [
        "colors_set = set(colors)\n",
        "fruits_set = set(fruits)"
      ],
      "id": "IgP2ZhedwILF"
    },
    {
      "cell_type": "markdown",
      "metadata": {
        "id": "tW9fj0R1jNTE"
      },
      "source": [
        "Find the union of both the sets."
      ],
      "id": "tW9fj0R1jNTE"
    },
    {
      "cell_type": "code",
      "execution_count": 4,
      "metadata": {
        "id": "oyskI_CTjNTE",
        "outputId": "80436298-b4dc-45c7-d46b-db07f15a56df",
        "colab": {
          "base_uri": "https://localhost:8080/"
        }
      },
      "outputs": [
        {
          "output_type": "stream",
          "name": "stdout",
          "text": [
            "{'grapes', 'apples', 'orange', 'red', 'blue'}\n"
          ]
        }
      ],
      "source": [
        "\n",
        "print(colors_set.union(fruits_set))\n"
      ],
      "id": "oyskI_CTjNTE"
    },
    {
      "cell_type": "markdown",
      "metadata": {
        "id": "3yXYgYBLjNTF"
      },
      "source": [
        "Find the intersection of both the sets "
      ],
      "id": "3yXYgYBLjNTF"
    },
    {
      "cell_type": "code",
      "execution_count": 6,
      "metadata": {
        "id": "3AzYqu5sjNTF",
        "outputId": "2cd0b9ab-4c72-48bd-a45d-fe04ad32ed53",
        "colab": {
          "base_uri": "https://localhost:8080/"
        }
      },
      "outputs": [
        {
          "output_type": "stream",
          "name": "stdout",
          "text": [
            "{'orange'}\n"
          ]
        }
      ],
      "source": [
        "print(colors_set.intersection(fruits_set))\n",
        "\n"
      ],
      "id": "3AzYqu5sjNTF"
    },
    {
      "cell_type": "markdown",
      "metadata": {
        "id": "PuhlSjH_jNTF"
      },
      "source": [
        "Find the elements which are Fruits but not colors (using set.difference() )"
      ],
      "id": "PuhlSjH_jNTF"
    },
    {
      "cell_type": "code",
      "execution_count": 7,
      "metadata": {
        "id": "gBaxHXrfjNTF",
        "outputId": "05202a0d-d4e9-4783-afcd-b5cfc1e10942",
        "colab": {
          "base_uri": "https://localhost:8080/"
        }
      },
      "outputs": [
        {
          "output_type": "stream",
          "name": "stdout",
          "text": [
            "{'red', 'blue'}\n"
          ]
        }
      ],
      "source": [
        "\n",
        "print(colors_set.difference(fruits_set))\n"
      ],
      "id": "gBaxHXrfjNTF"
    },
    {
      "cell_type": "code",
      "execution_count": null,
      "metadata": {
        "id": "BGbDrIN-wILG"
      },
      "outputs": [],
      "source": [],
      "id": "BGbDrIN-wILG"
    },
    {
      "cell_type": "markdown",
      "metadata": {
        "id": "hLZeBta3jNTF"
      },
      "source": [
        "## TUPLES"
      ],
      "id": "hLZeBta3jNTF"
    },
    {
      "cell_type": "markdown",
      "metadata": {
        "id": "Nerhdg66jNTF"
      },
      "source": [
        "### Create temp = [17, ’Virat’, 50.0]"
      ],
      "id": "Nerhdg66jNTF"
    },
    {
      "cell_type": "code",
      "execution_count": 8,
      "metadata": {
        "id": "8eP5Xt9_wILH"
      },
      "outputs": [],
      "source": [
        "temp = [17,'Virat',50.0]"
      ],
      "id": "8eP5Xt9_wILH"
    },
    {
      "cell_type": "markdown",
      "metadata": {
        "id": "C0IuMJFijNTG"
      },
      "source": [
        "Iterate through temp and print all the items in temp"
      ],
      "id": "C0IuMJFijNTG"
    },
    {
      "cell_type": "code",
      "execution_count": 9,
      "metadata": {
        "id": "CSKY_cgHjNTG",
        "outputId": "c3dfbf18-7ff4-4d07-be2b-b961c075c967",
        "colab": {
          "base_uri": "https://localhost:8080/"
        }
      },
      "outputs": [
        {
          "output_type": "stream",
          "name": "stdout",
          "text": [
            "17\n",
            "Virat\n",
            "50.0\n"
          ]
        }
      ],
      "source": [
        "\n",
        "for item in temp:\n",
        "    print(item)"
      ],
      "id": "CSKY_cgHjNTG"
    },
    {
      "cell_type": "markdown",
      "metadata": {
        "id": "gI0kBGQ1jNTG"
      },
      "source": [
        "replace first element with 11 in temp"
      ],
      "id": "gI0kBGQ1jNTG"
    },
    {
      "cell_type": "code",
      "execution_count": 12,
      "metadata": {
        "id": "p6JCtyOBjNTG"
      },
      "outputs": [],
      "source": [
        "temp[0] = 11"
      ],
      "id": "p6JCtyOBjNTG"
    },
    {
      "cell_type": "markdown",
      "metadata": {
        "id": "JV3b34AdjNTG"
      },
      "source": [
        "Set temp1 = tuple(temp)"
      ],
      "id": "JV3b34AdjNTG"
    },
    {
      "cell_type": "code",
      "execution_count": 13,
      "metadata": {
        "id": "4KzyUrmhwILJ"
      },
      "outputs": [],
      "source": [
        "temp1 = tuple(temp)"
      ],
      "id": "4KzyUrmhwILJ"
    },
    {
      "cell_type": "markdown",
      "metadata": {
        "id": "Z9LJWgBkjNTG"
      },
      "source": [
        "Iterate through temp1 and print all the items in temp1. "
      ],
      "id": "Z9LJWgBkjNTG"
    },
    {
      "cell_type": "code",
      "execution_count": 14,
      "metadata": {
        "id": "t0v-FZsNjNTH",
        "outputId": "5f3edf1b-4896-4e48-b3ea-2e0f06d5c66b",
        "colab": {
          "base_uri": "https://localhost:8080/"
        }
      },
      "outputs": [
        {
          "output_type": "stream",
          "name": "stdout",
          "text": [
            "11\n",
            "Virat\n",
            "50.0\n"
          ]
        }
      ],
      "source": [
        "for items in temp:\n",
        "  print(items)\n",
        "\n"
      ],
      "id": "t0v-FZsNjNTH"
    },
    {
      "cell_type": "markdown",
      "metadata": {
        "id": "A4FXMQDfjNTH"
      },
      "source": [
        "replace first element with 17 in temp1"
      ],
      "id": "A4FXMQDfjNTH"
    },
    {
      "cell_type": "code",
      "execution_count": 16,
      "metadata": {
        "id": "eioDSdW8jNTH",
        "outputId": "5f2d233a-f111-4240-b9a6-ebd7964a2b33",
        "colab": {
          "base_uri": "https://localhost:8080/",
          "height": 166
        }
      },
      "outputs": [
        {
          "output_type": "error",
          "ename": "TypeError",
          "evalue": "ignored",
          "traceback": [
            "\u001b[0;31m---------------------------------------------------------------------------\u001b[0m",
            "\u001b[0;31mTypeError\u001b[0m                                 Traceback (most recent call last)",
            "\u001b[0;32m<ipython-input-16-0207b6185b0a>\u001b[0m in \u001b[0;36m<cell line: 1>\u001b[0;34m()\u001b[0m\n\u001b[0;32m----> 1\u001b[0;31m \u001b[0mtemp1\u001b[0m\u001b[0;34m[\u001b[0m\u001b[0;36m0\u001b[0m\u001b[0;34m]\u001b[0m \u001b[0;34m=\u001b[0m \u001b[0;36m17\u001b[0m\u001b[0;34m\u001b[0m\u001b[0;34m\u001b[0m\u001b[0m\n\u001b[0m",
            "\u001b[0;31mTypeError\u001b[0m: 'tuple' object does not support item assignment"
          ]
        }
      ],
      "source": [
        "temp1[0] = 17\n"
      ],
      "id": "eioDSdW8jNTH"
    },
    {
      "cell_type": "markdown",
      "metadata": {
        "id": "IuGIObFZjNTH"
      },
      "source": [
        "<b>Oops!! You got an error. Hey Don't worry! Its because Once a tuple is created, you cannot change its values unlike list.</b>"
      ],
      "id": "IuGIObFZjNTH"
    },
    {
      "cell_type": "markdown",
      "metadata": {
        "id": "ExB_cM1ZjNTH"
      },
      "source": [
        "### Create city = (\"Bangalore\", 28.9949521, 72)"
      ],
      "id": "ExB_cM1ZjNTH"
    },
    {
      "cell_type": "code",
      "execution_count": 17,
      "metadata": {
        "id": "fWz52DjjjNTH"
      },
      "outputs": [],
      "source": [
        "city = (\"Bangalore\",28.9949521,72)"
      ],
      "id": "fWz52DjjjNTH"
    },
    {
      "cell_type": "markdown",
      "metadata": {
        "id": "v4ipyqXsjNTH"
      },
      "source": [
        "Print first element of city"
      ],
      "id": "v4ipyqXsjNTH"
    },
    {
      "cell_type": "code",
      "execution_count": 20,
      "metadata": {
        "id": "KJHMuFk1jNTI",
        "outputId": "4a49484a-9a41-4bbe-c91f-bed59c9169d9",
        "colab": {
          "base_uri": "https://localhost:8080/"
        }
      },
      "outputs": [
        {
          "output_type": "stream",
          "name": "stdout",
          "text": [
            "Bangalore\n"
          ]
        }
      ],
      "source": [
        "print(city[0])"
      ],
      "id": "KJHMuFk1jNTI"
    },
    {
      "cell_type": "markdown",
      "metadata": {
        "id": "N5FoHg4ujNTI"
      },
      "source": [
        "Create city2 = (‘Chennai’, 30.01, 74)"
      ],
      "id": "N5FoHg4ujNTI"
    },
    {
      "cell_type": "code",
      "execution_count": 21,
      "metadata": {
        "id": "fYuGqbDEjNTI"
      },
      "outputs": [],
      "source": [
        "city2 = (\"Chennai\",30.01,74)"
      ],
      "id": "fYuGqbDEjNTI"
    },
    {
      "cell_type": "markdown",
      "metadata": {
        "id": "0gz-HACUjNTI"
      },
      "source": [
        "Create cities which consist of city and city2"
      ],
      "id": "0gz-HACUjNTI"
    },
    {
      "cell_type": "code",
      "execution_count": 23,
      "metadata": {
        "id": "5dTN1LQPjNTI"
      },
      "outputs": [],
      "source": [
        "cities = city + city2\n"
      ],
      "id": "5dTN1LQPjNTI"
    },
    {
      "cell_type": "markdown",
      "metadata": {
        "id": "He-teRi2jNTI"
      },
      "source": [
        "Print cities"
      ],
      "id": "He-teRi2jNTI"
    },
    {
      "cell_type": "code",
      "execution_count": 24,
      "metadata": {
        "id": "ISySNfxGjNTI",
        "outputId": "cade6bab-8aa9-4ac9-dae5-bc682b60c454",
        "colab": {
          "base_uri": "https://localhost:8080/"
        }
      },
      "outputs": [
        {
          "output_type": "stream",
          "name": "stdout",
          "text": [
            "('Bangalore', 28.9949521, 72, 'Chennai', 30.01, 74)\n"
          ]
        }
      ],
      "source": [
        "print(cities)"
      ],
      "id": "ISySNfxGjNTI"
    },
    {
      "cell_type": "markdown",
      "metadata": {
        "id": "brFx6-rtjNTJ"
      },
      "source": [
        "Print type of first element in cities"
      ],
      "id": "brFx6-rtjNTJ"
    },
    {
      "cell_type": "code",
      "execution_count": 25,
      "metadata": {
        "id": "CmIifGybjNTJ",
        "outputId": "7ec991bd-37d4-4319-cb77-cf9718d9167d",
        "colab": {
          "base_uri": "https://localhost:8080/"
        }
      },
      "outputs": [
        {
          "output_type": "stream",
          "name": "stdout",
          "text": [
            "<class 'str'>\n"
          ]
        }
      ],
      "source": [
        "first_element = cities[0]\n",
        "element_type = type(first_element)\n",
        "\n",
        "print(element_type)"
      ],
      "id": "CmIifGybjNTJ"
    },
    {
      "cell_type": "markdown",
      "metadata": {
        "id": "jtk8J_yHjNTJ"
      },
      "source": [
        "print the type of cities\n"
      ],
      "id": "jtk8J_yHjNTJ"
    },
    {
      "cell_type": "code",
      "execution_count": 26,
      "metadata": {
        "id": "y9rdG29XjNTJ",
        "outputId": "27e294c8-26f0-41bc-d38c-f8aa88aa6894",
        "colab": {
          "base_uri": "https://localhost:8080/"
        }
      },
      "outputs": [
        {
          "output_type": "stream",
          "name": "stdout",
          "text": [
            "<class 'tuple'>\n"
          ]
        }
      ],
      "source": [
        "print(type(cities))"
      ],
      "id": "y9rdG29XjNTJ"
    },
    {
      "cell_type": "markdown",
      "metadata": {
        "id": "uXHSadWqjNTJ"
      },
      "source": [
        "Hey that implies you made a nested tuples!!"
      ],
      "id": "uXHSadWqjNTJ"
    },
    {
      "cell_type": "markdown",
      "metadata": {
        "id": "zViY-S_djNTJ"
      },
      "source": [
        "## DICTIONARY"
      ],
      "id": "zViY-S_djNTJ"
    },
    {
      "cell_type": "markdown",
      "metadata": {
        "id": "4NjUxRaZjNTK"
      },
      "source": [
        "### Create a dictionary d = {\"actor\":\"amir\",\"animal\":\"cat\",\"earth\":2,\"list\":[23,32,12]}"
      ],
      "id": "4NjUxRaZjNTK"
    },
    {
      "cell_type": "code",
      "execution_count": 28,
      "metadata": {
        "id": "UCtEFPI4jNTK"
      },
      "outputs": [],
      "source": [
        "d = {\"actor\":\"amir\",\"animal\":\"cat\",\"earth\":2,\"list\":[23,32,12]}"
      ],
      "id": "UCtEFPI4jNTK"
    },
    {
      "cell_type": "markdown",
      "metadata": {
        "id": "OamenDk8jNTK"
      },
      "source": [
        "Print the value of d[0]"
      ],
      "id": "OamenDk8jNTK"
    },
    {
      "cell_type": "code",
      "execution_count": 29,
      "metadata": {
        "id": "gion3awcjNTK",
        "outputId": "bb83dbdc-52af-499e-ba9a-50e6c253604b",
        "colab": {
          "base_uri": "https://localhost:8080/",
          "height": 166
        }
      },
      "outputs": [
        {
          "output_type": "error",
          "ename": "KeyError",
          "evalue": "ignored",
          "traceback": [
            "\u001b[0;31m---------------------------------------------------------------------------\u001b[0m",
            "\u001b[0;31mKeyError\u001b[0m                                  Traceback (most recent call last)",
            "\u001b[0;32m<ipython-input-29-c7332189be96>\u001b[0m in \u001b[0;36m<cell line: 1>\u001b[0;34m()\u001b[0m\n\u001b[0;32m----> 1\u001b[0;31m \u001b[0mprint\u001b[0m\u001b[0;34m(\u001b[0m\u001b[0md\u001b[0m\u001b[0;34m[\u001b[0m\u001b[0;36m0\u001b[0m\u001b[0;34m]\u001b[0m\u001b[0;34m)\u001b[0m\u001b[0;34m\u001b[0m\u001b[0;34m\u001b[0m\u001b[0m\n\u001b[0m",
            "\u001b[0;31mKeyError\u001b[0m: 0"
          ]
        }
      ],
      "source": [
        "print(d[0])"
      ],
      "id": "gion3awcjNTK"
    },
    {
      "cell_type": "markdown",
      "metadata": {
        "id": "XYtrrUigjNTK"
      },
      "source": [
        "<b>Oops!! again an error. again a fun fact. Dictionary return the value for key if key is in the dictionary, else throws KeyError\n",
        "and we don't have key 0 here :( </b>"
      ],
      "id": "XYtrrUigjNTK"
    },
    {
      "cell_type": "markdown",
      "metadata": {
        "id": "62VXYnw1jNTK"
      },
      "source": [
        "Store the value of d[‘actor’] to a new variable actor."
      ],
      "id": "62VXYnw1jNTK"
    },
    {
      "cell_type": "code",
      "execution_count": 31,
      "metadata": {
        "id": "kkBfNz81jNTK",
        "colab": {
          "base_uri": "https://localhost:8080/"
        },
        "outputId": "e3213c80-c825-4181-8929-a5d4f9155189"
      },
      "outputs": [
        {
          "output_type": "stream",
          "name": "stdout",
          "text": [
            "amir\n"
          ]
        }
      ],
      "source": [
        "actor = d[\"actor\"]\n",
        "print(actor)\n"
      ],
      "id": "kkBfNz81jNTK"
    },
    {
      "cell_type": "markdown",
      "metadata": {
        "id": "uFfuF569jNTL"
      },
      "source": [
        "Print the type of actor"
      ],
      "id": "uFfuF569jNTL"
    },
    {
      "cell_type": "code",
      "execution_count": 32,
      "metadata": {
        "id": "bKbFXBxyjNTL",
        "outputId": "44e3e910-9ff7-486c-e92a-29275feb227c",
        "colab": {
          "base_uri": "https://localhost:8080/"
        }
      },
      "outputs": [
        {
          "output_type": "stream",
          "name": "stdout",
          "text": [
            "<class 'str'>\n"
          ]
        }
      ],
      "source": [
        "print(type(actor))"
      ],
      "id": "bKbFXBxyjNTL"
    },
    {
      "cell_type": "markdown",
      "metadata": {
        "id": "y549qN04jNTL"
      },
      "source": [
        "Store the value of d[‘list’] in new variable List. "
      ],
      "id": "y549qN04jNTL"
    },
    {
      "cell_type": "code",
      "execution_count": 33,
      "metadata": {
        "id": "I7GyOK8DjNTL"
      },
      "outputs": [],
      "source": [
        "List = d[\"list\"]"
      ],
      "id": "I7GyOK8DjNTL"
    },
    {
      "cell_type": "markdown",
      "metadata": {
        "id": "Ul1YMiuNjNTL"
      },
      "source": [
        "Print the type of List. "
      ],
      "id": "Ul1YMiuNjNTL"
    },
    {
      "cell_type": "code",
      "execution_count": 35,
      "metadata": {
        "id": "V0VdG9y_jNTL",
        "outputId": "ccbd5b6f-44b3-4c64-fe8e-f29438a6becf",
        "colab": {
          "base_uri": "https://localhost:8080/"
        }
      },
      "outputs": [
        {
          "output_type": "stream",
          "name": "stdout",
          "text": [
            "<class 'list'>\n"
          ]
        }
      ],
      "source": [
        "print(type(List))"
      ],
      "id": "V0VdG9y_jNTL"
    },
    {
      "cell_type": "markdown",
      "metadata": {
        "id": "A0CEMABhjNTL"
      },
      "source": [
        "Create d1 = { ‘singer’ : ‘Kr$na’ , ‘album’: ‘Still here’, ‘genre’ : ‘hip-hop’}"
      ],
      "id": "A0CEMABhjNTL"
    },
    {
      "cell_type": "code",
      "execution_count": 37,
      "metadata": {
        "id": "FCGCw5FEjNTL"
      },
      "outputs": [],
      "source": [
        " d1 = { 'singer' : 'Kr$na' , 'album': 'Still here', 'genre' : 'hip-hop'}"
      ],
      "id": "FCGCw5FEjNTL"
    },
    {
      "cell_type": "markdown",
      "metadata": {
        "id": "ybGIILrLjNTM"
      },
      "source": [
        "Merge d1 into d."
      ],
      "id": "ybGIILrLjNTM"
    },
    {
      "cell_type": "code",
      "execution_count": 38,
      "metadata": {
        "id": "UmDbbQJPjNTM"
      },
      "outputs": [],
      "source": [
        "d.update(d1)"
      ],
      "id": "UmDbbQJPjNTM"
    },
    {
      "cell_type": "markdown",
      "metadata": {
        "id": "jhAPX45ZjNTM"
      },
      "source": [
        "print d"
      ],
      "id": "jhAPX45ZjNTM"
    },
    {
      "cell_type": "code",
      "execution_count": 39,
      "metadata": {
        "id": "785S26ryjNTM",
        "outputId": "dd853d30-de7d-486a-c884-17daacd8b3dc",
        "colab": {
          "base_uri": "https://localhost:8080/"
        }
      },
      "outputs": [
        {
          "output_type": "stream",
          "name": "stdout",
          "text": [
            "{'actor': 'amir', 'animal': 'cat', 'earth': 2, 'list': [23, 32, 12], 'singer': 'Kr$na', 'album': 'Still here', 'genre': 'hip-hop'}\n"
          ]
        }
      ],
      "source": [
        "print(d)"
      ],
      "id": "785S26ryjNTM"
    },
    {
      "cell_type": "markdown",
      "metadata": {
        "id": "9E852mY2jNTM"
      },
      "source": [
        "Print all the keys in d"
      ],
      "id": "9E852mY2jNTM"
    },
    {
      "cell_type": "code",
      "execution_count": 40,
      "metadata": {
        "id": "7K843OrLjNTM",
        "outputId": "aecfa78e-8dd3-4dcf-d3f3-7000d364b5d9",
        "colab": {
          "base_uri": "https://localhost:8080/"
        }
      },
      "outputs": [
        {
          "output_type": "stream",
          "name": "stdout",
          "text": [
            "actor\n",
            "animal\n",
            "earth\n",
            "list\n",
            "singer\n",
            "album\n",
            "genre\n"
          ]
        }
      ],
      "source": [
        "for key in d.keys():\n",
        "  print(key)"
      ],
      "id": "7K843OrLjNTM"
    },
    {
      "cell_type": "markdown",
      "metadata": {
        "id": "fiuzxbGkjNTN"
      },
      "source": [
        "Print all the values in d"
      ],
      "id": "fiuzxbGkjNTN"
    },
    {
      "cell_type": "code",
      "execution_count": 41,
      "metadata": {
        "id": "Pyhh6r0pjNTN",
        "outputId": "533b8649-79cf-4cfe-e694-0baf1913534c",
        "colab": {
          "base_uri": "https://localhost:8080/"
        }
      },
      "outputs": [
        {
          "output_type": "stream",
          "name": "stdout",
          "text": [
            "amir\n",
            "cat\n",
            "2\n",
            "[23, 32, 12]\n",
            "Kr$na\n",
            "Still here\n",
            "hip-hop\n"
          ]
        }
      ],
      "source": [
        "for value in d.values():\n",
        "  print(value)"
      ],
      "id": "Pyhh6r0pjNTN"
    },
    {
      "cell_type": "markdown",
      "metadata": {
        "id": "XSoe8GWmjNTN"
      },
      "source": [
        "Iterate over d, and print each key, value pair as this - (actor ----> amir)"
      ],
      "id": "XSoe8GWmjNTN"
    },
    {
      "cell_type": "code",
      "execution_count": 42,
      "metadata": {
        "id": "O0iW9kiqjNTO",
        "outputId": "1a5961a2-29b2-49a2-fec4-a56f0f3546b9",
        "colab": {
          "base_uri": "https://localhost:8080/"
        }
      },
      "outputs": [
        {
          "output_type": "stream",
          "name": "stdout",
          "text": [
            "actor ----> amir\n",
            "animal ----> cat\n",
            "earth ----> 2\n",
            "list ----> [23, 32, 12]\n",
            "singer ----> Kr$na\n",
            "album ----> Still here\n",
            "genre ----> hip-hop\n"
          ]
        }
      ],
      "source": [
        "for key, value in d.items():\n",
        "    print(f\"{key} ----> {value}\")"
      ],
      "id": "O0iW9kiqjNTO"
    },
    {
      "cell_type": "markdown",
      "metadata": {
        "id": "Hhzm-EIsjNTO"
      },
      "source": [
        "count the number of occurences of charachters in string named \"sent\" using dictionary and print the same.\n"
      ],
      "id": "Hhzm-EIsjNTO"
    },
    {
      "cell_type": "code",
      "execution_count": 44,
      "metadata": {
        "id": "IvRlvUAljNTP",
        "outputId": "054938af-061a-4463-9cd3-16a93955df53",
        "colab": {
          "base_uri": "https://localhost:8080/"
        }
      },
      "outputs": [
        {
          "output_type": "stream",
          "name": "stdout",
          "text": [
            "{'H': 1, 'e': 1, 'l': 3, 'o': 2, ',': 1, ' ': 1, 'W': 1, 'r': 1, 'd': 1, '!': 1}\n"
          ]
        }
      ],
      "source": [
        "\n",
        "sent = \"Hello, World!\"\n",
        "\n",
        "char_counts = {}\n",
        "\n",
        "for char in sent:\n",
        "    if char in char_counts:\n",
        "        char_counts[char] += 1\n",
        "    else:\n",
        "        char_counts[char] = 1\n",
        "\n",
        "print(char_counts)\n"
      ],
      "id": "IvRlvUAljNTP"
    },
    {
      "cell_type": "code",
      "execution_count": null,
      "metadata": {
        "id": "ebNwyxUujNTP"
      },
      "outputs": [],
      "source": [],
      "id": "ebNwyxUujNTP"
    }
  ],
  "metadata": {
    "colab": {
      "provenance": []
    },
    "kernelspec": {
      "display_name": "Python 3",
      "language": "python",
      "name": "python3"
    },
    "language_info": {
      "codemirror_mode": {
        "name": "ipython",
        "version": 3
      },
      "file_extension": ".py",
      "mimetype": "text/x-python",
      "name": "python",
      "nbconvert_exporter": "python",
      "pygments_lexer": "ipython3",
      "version": "3.7.4"
    }
  },
  "nbformat": 4,
  "nbformat_minor": 5
}